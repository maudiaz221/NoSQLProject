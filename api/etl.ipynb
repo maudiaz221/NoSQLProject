{
 "cells": [
  {
   "cell_type": "code",
   "execution_count": 11,
   "metadata": {},
   "outputs": [],
   "source": [
    "import pandas as pd\n",
    "import ast"
   ]
  },
  {
   "cell_type": "code",
   "execution_count": 30,
   "metadata": {},
   "outputs": [],
   "source": [
    "df = pd.read_csv('/Users/mauriciodiaz/itam/bdnr/NoSQLProject/locations.csv')\n",
    "\n",
    "# Replace None values with an empty list\n",
    "df['residents'] = df['residents'].apply(lambda x: ast.literal_eval(x) if x is not None else [])\n",
    "# Explode the 'Values' column\n",
    "df = df.explode('residents').reset_index(drop=True)\n",
    "df['character_id'] = df['residents'].str.extract(r'(\\d+)')\n",
    "df.drop(columns=['residents'], inplace=True)\n",
    "df.rename(columns={'id': 'location_id'}, inplace=True)\n",
    "df.to_csv('locations.csv', index=False, mode='w')\n"
   ]
  },
  {
   "cell_type": "code",
   "execution_count": 32,
   "metadata": {},
   "outputs": [],
   "source": [
    "df1 = pd.read_csv('/Users/mauriciodiaz/itam/bdnr/NoSQLProject/characters.csv')\n",
    "\n",
    "# Replace None values with an empty list\n",
    "df1['episode'] = df1['episode'].apply(lambda x: ast.literal_eval(x) if x is not None else [])\n",
    "# Explode the 'Values' column\n",
    "df1 = df1.explode('episode').reset_index(drop=True)\n",
    "df1['episode_id'] = df1['episode'].str.extract(r'(\\d+)')\n",
    "df1.drop(columns=['episode'], inplace=True)\n",
    "df1.rename(columns={'id': 'character_id'}, inplace=True)\n",
    "df1\n",
    "df1.to_csv('characters.csv', index=False, mode='w')"
   ]
  },
  {
   "cell_type": "code",
   "execution_count": 33,
   "metadata": {},
   "outputs": [],
   "source": [
    "df2 = pd.read_csv('/Users/mauriciodiaz/itam/bdnr/NoSQLProject/episodes.csv')\n",
    "df2 = df2.rename(columns={'id': 'episode_id','characters': 'character_id'})\n",
    "df2\n",
    "# Replace None values with an empty list\n",
    "df2['character_id'] = df2['character_id'].apply(lambda x: ast.literal_eval(x) if x is not None else [])\n",
    "# Explode the 'Values' column\n",
    "df2 = df2.explode('character_id').reset_index(drop=True)\n",
    "df2['character_id'] = df2['character_id'].str.extract(r'(\\d+)')\n",
    "df2.to_csv('episodes.csv', index=False, mode='w')\n"
   ]
  },
  {
   "cell_type": "code",
   "execution_count": null,
   "metadata": {},
   "outputs": [],
   "source": []
  }
 ],
 "metadata": {
  "kernelspec": {
   "display_name": "itam",
   "language": "python",
   "name": "python3"
  },
  "language_info": {
   "codemirror_mode": {
    "name": "ipython",
    "version": 3
   },
   "file_extension": ".py",
   "mimetype": "text/x-python",
   "name": "python",
   "nbconvert_exporter": "python",
   "pygments_lexer": "ipython3",
   "version": "3.11.5"
  }
 },
 "nbformat": 4,
 "nbformat_minor": 2
}
